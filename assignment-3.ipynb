{
 "cells": [
  {
   "cell_type": "code",
   "execution_count": null,
   "id": "34217b6e",
   "metadata": {},
   "outputs": [],
   "source": [
    "#Q1\n",
    "Answer\n",
    "Once dice is thrown Possible outcomes are : 1,2,3,4,5,6\n",
    "Possibilities of  Getting number greater than 4 is 5 and 6\n",
    "\n",
    "Probability if getting 5 is 1/6 and Probability if getting 6 is 1/6\n",
    "\n",
    "So,P(Getting number greater than 4 is)=(1/6)+(1/6)= 2/6=1/3 "
   ]
  },
  {
   "cell_type": "code",
   "execution_count": null,
   "id": "67b6ce3a",
   "metadata": {},
   "outputs": [],
   "source": [
    "#Q2\n",
    "Answer\n",
    "If we throw a two dice then there are 36 possible outcomes.\n",
    "Sum of the fallen numbers Less than 3 are (1,1).\n",
    "so, P(Getting Sum of the fallen numbers Less than 3 ) = 1/36\n",
    "and\n",
    "P(Getting Sum of the fallen numbers greater than 3 )=1-1/36= 35/36\n"
   ]
  },
  {
   "cell_type": "code",
   "execution_count": null,
   "id": "989304ce",
   "metadata": {},
   "outputs": [],
   "source": [
    "#Q3\n",
    "Answer\n",
    "p(A|B) = P(A and B)/P(B)\n",
    "p(3hearts|32C7) = 8C3*24C4/32C7\n",
    "                = 56*10626/3365856\n",
    "                = 5,95,056/3365856\n",
    "                = 0.1767"
   ]
  },
  {
   "cell_type": "code",
   "execution_count": null,
   "id": "1947bf15",
   "metadata": {},
   "outputs": [],
   "source": [
    "#Q4\n",
    "Answer\n",
    "Number of Possibilities are  2^5= 32\n",
    "P(HHHHH)=1/32\n"
   ]
  },
  {
   "cell_type": "code",
   "execution_count": null,
   "id": "5e3803d4",
   "metadata": {},
   "outputs": [],
   "source": [
    "#Q5\n",
    "Answer\n",
    "Probability of fresh bread is 25/30\n",
    "probability of getting a tin under warranty is 19/20\n",
    "so,probability that the customer will buy a fresh bread and a tin under warranty is\n",
    "P(Buying fresh bread)*P(tin under warranty)=(25/30)*(19/20)=475/600"
   ]
  },
  {
   "cell_type": "code",
   "execution_count": null,
   "id": "d1837c14",
   "metadata": {},
   "outputs": [],
   "source": [
    "#Q6\n",
    "Answer\n",
    "There are 6 possibilities of the event.\n",
    "\n",
    "All 3 recipients get their respective letters (1 possibility),\n",
    "only 1 one receives his letter (3 possibilities),\n",
    "none receive their letter (2 possibilities).\n",
    "\n",
    "Probability that at least one of the recipients gets his letter \n",
    "    \n",
    "    = 1 - Probability that none receive their letter\n",
    "\n",
    "    = 1–2/6 = 4/6 = 2/3\n",
    "\n",
    "Or\n",
    "\n",
    "Probability that at least one of the recipients gets the letter\n",
    "    \n",
    "    = Probability that all receive their letters + Probability that only one receives his letter\n",
    "    \n",
    "    = 1/6+3/6 = 4/6 = 2/3"
   ]
  },
  {
   "cell_type": "code",
   "execution_count": null,
   "id": "231be61a",
   "metadata": {},
   "outputs": [],
   "source": [
    "#Q7\n",
    "Answer\n",
    "Probability of not getting hidden defect is  8/10=4/5\n",
    "\n",
    "Probability of getting hidden defect is  2/10=1/5\n",
    "The customer buys two pieces. What is the probability that atleast one of them has a hidden bug is\n",
    "P(at least one hidden bug is)=1/5\n"
   ]
  },
  {
   "cell_type": "code",
   "execution_count": null,
   "id": "fc12adf2",
   "metadata": {},
   "outputs": [],
   "source": [
    "#Q8\n",
    "Answer\n",
    "By using binomial probability distribution\n",
    "P(X=x)=nCx p^x*(1-p)^n-x\n",
    "P(X=3) if Probability of getting the number 6 fallen exactly 3 times.\n",
    "n=7 \n",
    "P(X=3)=7C3 (1/6)^3*(1-1/6)^4\n",
    "     = 7C3  (1/6)^3*(5/6)^4\n"
   ]
  },
  {
   "cell_type": "code",
   "execution_count": null,
   "id": "8a7d4bfb",
   "metadata": {},
   "outputs": [],
   "source": [
    "#Q9\n",
    "Answer\n",
    "Probability of correct answer is p=1/4\n",
    "The test contain 10 question i.e n=10\n",
    "The probability solving correct 5 question = 10C5 (1/4)^5*(1-1/4)^5\n",
    "So, the probability that completely unprepared student will pass the test is\n",
    "\n",
    "P(pass the test)=10C5 (1/4)^5*(1-1/4)^5"
   ]
  },
  {
   "cell_type": "code",
   "execution_count": null,
   "id": "e5adf99e",
   "metadata": {},
   "outputs": [],
   "source": [
    "#Q10\n",
    "Answer\n",
    "The total number which is divisible by 2 is 50\n",
    "and  total number which is divisible by 5 is 20\n",
    "So probability will we pull out a number that is divisible by two is 50/100 =1/2\n",
    "probability will we pull out a number that is divisible by five is 20/100=1/5\n",
    "so,\n",
    "probability will we pull out a number that is divisible by two or five is 1/2+1/5=7/10\n"
   ]
  },
  {
   "cell_type": "code",
   "execution_count": null,
   "id": "fd06de7e",
   "metadata": {},
   "outputs": [],
   "source": [
    "#Q11\n",
    "Answer\n",
    "The number of ways we can pull the product is 49C6\n",
    "nunber of ways Out of 6 high quality product 4 will be high quality product 6C4\n",
    "\n",
    " What is the probability of pulling out 6 random products from the box and having \n",
    "at least four of them high quality ?\"\n",
    "= (6C4 +6C5 +6C6)/49C6\n"
   ]
  },
  {
   "cell_type": "code",
   "execution_count": null,
   "id": "ff501e5f",
   "metadata": {},
   "outputs": [],
   "source": [
    "#Q12\n",
    "Answer\n",
    "After throwing two dice there are 36  possible ways getting different numbers on a dice  \n",
    "Getting sum of the fallen numbers exactly 9  are (3,6),(6,3),(4,5),(5,4)\n",
    "\n",
    "P( getting the sum of the fallen numbers exactly 9)=4/36=1/9"
   ]
  },
  {
   "cell_type": "code",
   "execution_count": null,
   "id": "5479cba4",
   "metadata": {},
   "outputs": [],
   "source": [
    "#Q13\n",
    "Answer\n",
    "a) \n",
    "Throwing one dice getting even number is {2,4,6}\n",
    "P(getting even number )=3/6\n",
    "\n",
    "b)\n",
    "Getting numbers divisible by three are {3,6}\n",
    "P(Getting numbers divisible by three) =  2/6 =1/3\n",
    "\n",
    "c)The number less than six {1,2,3,4,5}\n",
    "\n",
    "P(Getting number less than six)=(5/6)\n",
    "\n",
    "\n"
   ]
  },
  {
   "cell_type": "code",
   "execution_count": null,
   "id": "8aa974e3",
   "metadata": {},
   "outputs": [],
   "source": [
    "#Q14\n",
    "Answer\n",
    "There are 60 chemical flasks in the laboratory,\n",
    "Probability of correctly labled = 54/60\n",
    "randomly choose 5 flasks,\n",
    "\n",
    "Probability of exactly 3 of them will be labeled correctly = 5_C_3 (54/60)^3*(6/60)^2"
   ]
  },
  {
   "cell_type": "code",
   "execution_count": null,
   "id": "e0552cb5",
   "metadata": {},
   "outputs": [],
   "source": [
    "#Q15\n",
    "Answer\n",
    "The number of possible ways to choose trinity is 31_C_3\n",
    "a)\n",
    "The probability that choosing three boys = 19_C_3/31_C_3\n",
    "b)\n",
    "The probability that choosing three Girls = 12_C_3 / 31_C_3\n",
    "c) \n",
    "The probability that choosing two boys one Girl = (19_C_2 + 12_C_1)/31_C_3\n",
    "\n"
   ]
  },
  {
   "cell_type": "code",
   "execution_count": null,
   "id": "c1339088",
   "metadata": {},
   "outputs": [],
   "source": [
    "#Q16\n",
    "Answer\n",
    "probability of getting faulty = 3/30=1/10\n",
    "probability of pulling out 5 random products from the box and having among them \n",
    "at most two the faulty ones = 5_C_1 (1/10)^1*(1-1/10)^4+5_C_2(1/10)^2*(9/10)^3\n"
   ]
  },
  {
   "cell_type": "code",
   "execution_count": null,
   "id": "916212b3",
   "metadata": {},
   "outputs": [],
   "source": [
    "#Q17\n",
    "Answer\n",
    "Prime number between 1 to 20 are {1,3,5,7,11,13,17,19}\n",
    "Probability of getting prime number = 8/20"
   ]
  },
  {
   "cell_type": "code",
   "execution_count": null,
   "id": "faf0c5e9",
   "metadata": {},
   "outputs": [],
   "source": [
    "#Q18\n",
    "Answer\n",
    "Number of ways we can generate three digit number are = 6*7*7=294\n",
    "\n",
    "P(it will be the number 445)=1/294"
   ]
  },
  {
   "cell_type": "code",
   "execution_count": null,
   "id": "8a2507b8",
   "metadata": {},
   "outputs": [],
   "source": [
    "#Q19\n",
    "Answer\n",
    "P(Pair of poor quality)= 5/100 =1/20\n",
    "The auditor selects randomly four pairs of the shoes the\n",
    "\n",
    "P(pair is poor quality) = 5_C_1(1/20)*(19/20)^4\n",
    "\n",
    "P(least one from the selected pairs is of poor quality) = 1- P(pair is poor quality)\n",
    "                                                        = 1- 5_C_1(1/20)*(19/20)^4\n"
   ]
  },
  {
   "cell_type": "code",
   "execution_count": null,
   "id": "48887af0",
   "metadata": {},
   "outputs": [],
   "source": [
    "#Q20\n",
    "Answer\n",
    "In this case, we need to choose 3 correct numbers out of the 5 drawn.\n",
    "Therefore, the number of ways to choose 3 correct numbers from 5 is 5_C_3\n",
    "=5!/((2!)*(3!))\n",
    "\n",
    "total of 35 numbers in the lottery, and you have to choose 5 numbers on your ticket,\n",
    "the total number of possible outcomes is 35_C_5\n",
    "= 35!/((5!)*(30!))\n",
    "\n",
    "P(winning third prize)=(5!/((2!)*(3!)))/(35!/((5!)*(30!)))\n",
    "    "
   ]
  },
  {
   "cell_type": "code",
   "execution_count": null,
   "id": "65dee9df",
   "metadata": {},
   "outputs": [],
   "source": [
    "#Q21\n",
    "Answer\n",
    "P(TV of first quality) = 85/100\n",
    "P(TV of second quality) = 15/100\n",
    "\n",
    "After the first ten customers, there are 85 - 10 = 75 \n",
    "\n",
    "first-quality TV sets left and 15 second-quality TV sets left.\n",
    "\n",
    "The total number of remaining TV sets is 75 + 15 = 90.\n",
    "\n",
    "P(eleventh customer buys second-quality TV)= 15/90\n",
    "\n"
   ]
  }
 ],
 "metadata": {
  "kernelspec": {
   "display_name": "Python 3 (ipykernel)",
   "language": "python",
   "name": "python3"
  },
  "language_info": {
   "codemirror_mode": {
    "name": "ipython",
    "version": 3
   },
   "file_extension": ".py",
   "mimetype": "text/x-python",
   "name": "python",
   "nbconvert_exporter": "python",
   "pygments_lexer": "ipython3",
   "version": "3.11.4"
  }
 },
 "nbformat": 4,
 "nbformat_minor": 5
}
