{
 "cells": [
  {
   "cell_type": "code",
   "execution_count": 1,
   "id": "78ad4ebe",
   "metadata": {},
   "outputs": [
    {
     "name": "stdout",
     "output_type": "stream",
     "text": [
      "length in cm50\n",
      "bredth in cm20\n",
      "your area of rectangle is: 1000 cm^2\n"
     ]
    }
   ],
   "source": [
    "#Q1\n",
    "l = int(input(\"length in cm\"))\n",
    "b = int(input(\"bredth in cm\"))\n",
    "a = l*b\n",
    "print(\"your area of rectangle is:\",a,\"cm^2\")"
   ]
  },
  {
   "cell_type": "code",
   "execution_count": 4,
   "id": "353732ad",
   "metadata": {},
   "outputs": [
    {
     "name": "stdout",
     "output_type": "stream",
     "text": [
      "enter the radius50\n",
      "your area is 7850.0\n"
     ]
    }
   ],
   "source": [
    "#Q2\n",
    "r = int(input(\"enter the radius\"))\n",
    "a = 3.14*(r*r)\n",
    "print(\"your area is\",a)"
   ]
  },
  {
   "cell_type": "code",
   "execution_count": 6,
   "id": "26712f1f",
   "metadata": {},
   "outputs": [
    {
     "name": "stdout",
     "output_type": "stream",
     "text": [
      "enter length10\n",
      "enter bradth20\n",
      "enter height10\n",
      "the area is: 1000\n"
     ]
    }
   ],
   "source": [
    "#Q3\n",
    "l = int(input(\"enter length\"))\n",
    "b = int(input(\"enter bradth\"))\n",
    "h = int(input(\"enter height\"))\n",
    "a=2*(l*b+b*h+h*l)\n",
    "print(\"the area is:\",a)"
   ]
  },
  {
   "cell_type": "code",
   "execution_count": 7,
   "id": "6851686e",
   "metadata": {},
   "outputs": [
    {
     "name": "stdout",
     "output_type": "stream",
     "text": [
      "enter length of cube5\n",
      "the area of cube is: 150\n"
     ]
    }
   ],
   "source": [
    "#Q4\n",
    "a = int(input(\"enter length of cube\"))\n",
    "x = 6*(a*a)\n",
    "print(\"the area of cube is:\",x)"
   ]
  },
  {
   "cell_type": "code",
   "execution_count": 8,
   "id": "777f4f34",
   "metadata": {},
   "outputs": [
    {
     "name": "stdout",
     "output_type": "stream",
     "text": [
      "enter radius5\n",
      "enter height23\n",
      "your c.s.a is: 722.2\n"
     ]
    }
   ],
   "source": [
    "#Q5\n",
    "r = int(input(\"enter radius\"))\n",
    "h = int(input(\"enter height\"))\n",
    "a = 2*(3.14*(r*h))\n",
    "print(\"your c.s.a is:\",a)"
   ]
  },
  {
   "cell_type": "code",
   "execution_count": 9,
   "id": "24e954b2",
   "metadata": {},
   "outputs": [
    {
     "name": "stdout",
     "output_type": "stream",
     "text": [
      "enter radius5\n",
      "enter height6\n",
      "area is 345.40000000000003\n"
     ]
    }
   ],
   "source": [
    "#Q6\n",
    "r = int(input(\"enter radius\"))\n",
    "h = int(input(\"enter height\"))\n",
    "a = 2*3.14*r*(r+h)\n",
    "print(\"area is\",a)"
   ]
  },
  {
   "cell_type": "code",
   "execution_count": 11,
   "id": "fce6f53b",
   "metadata": {},
   "outputs": [
    {
     "name": "stdout",
     "output_type": "stream",
     "text": [
      "enter radius5\n",
      "enter length5\n",
      "csa is 78.5\n"
     ]
    }
   ],
   "source": [
    "#Q7\n",
    "r = int(input(\"enter radius\"))\n",
    "l = int(input(\"enter length\"))\n",
    "a = 3.14*r*l\n",
    "print(\"csa is\",a)"
   ]
  },
  {
   "cell_type": "code",
   "execution_count": 12,
   "id": "95fbbf99",
   "metadata": {},
   "outputs": [
    {
     "name": "stdout",
     "output_type": "stream",
     "text": [
      "enter radius5\n",
      "enter  slant height3\n",
      "csa is 125.60000000000001\n"
     ]
    }
   ],
   "source": [
    "#Q8\n",
    "r = int(input(\"enter radius\"))\n",
    "l = int(input(\"enter  slant height\"))\n",
    "a = 3.14*r*(l+r)\n",
    "print(\"csa is\",a)"
   ]
  },
  {
   "cell_type": "code",
   "execution_count": 14,
   "id": "2558c19d",
   "metadata": {},
   "outputs": [
    {
     "name": "stdout",
     "output_type": "stream",
     "text": [
      "enter radius5\n",
      "tsa of sphere is 314.0\n"
     ]
    }
   ],
   "source": [
    "#Q9\n",
    "r = int(input(\"enter radius\"))\n",
    "a = 4*(3.14*(r*r))\n",
    "print(\"tsa of sphere is\",a)"
   ]
  },
  {
   "cell_type": "code",
   "execution_count": 15,
   "id": "0323b243",
   "metadata": {},
   "outputs": [
    {
     "name": "stdout",
     "output_type": "stream",
     "text": [
      "enter length5\n",
      "enter bradth6\n",
      "enter height2\n",
      "volume of cuboid is: 60\n"
     ]
    }
   ],
   "source": [
    "#Q10\n",
    "l = int(input(\"enter length\"))\n",
    "b = int(input(\"enter bradth\"))\n",
    "h = int(input(\"enter height\"))\n",
    "a = l*b*h\n",
    "print(\"volume of cuboid is:\",a)"
   ]
  },
  {
   "cell_type": "code",
   "execution_count": 16,
   "id": "ededa762",
   "metadata": {},
   "outputs": [
    {
     "name": "stdout",
     "output_type": "stream",
     "text": [
      "enter length5\n",
      "volume of cube is 125\n"
     ]
    }
   ],
   "source": [
    "#Q11\n",
    "l = int(input(\"enter length\"))\n",
    "a = l*l*l\n",
    "print(\"volume of cube is\",a)"
   ]
  },
  {
   "cell_type": "code",
   "execution_count": 17,
   "id": "c6242e38",
   "metadata": {},
   "outputs": [
    {
     "name": "stdout",
     "output_type": "stream",
     "text": [
      "enter radius2\n",
      "enter height9\n",
      "volume is 113.04\n"
     ]
    }
   ],
   "source": [
    "#Q12\n",
    "r = int(input(\"enter radius\"))\n",
    "h = int(input(\"enter height\"))\n",
    "v = 3.14*(r*r)*h\n",
    "print(\"volume is\",v)"
   ]
  },
  {
   "cell_type": "code",
   "execution_count": 1,
   "id": "4d6ca467",
   "metadata": {},
   "outputs": [
    {
     "name": "stdout",
     "output_type": "stream",
     "text": [
      "enter radius5\n",
      "enter height3\n",
      "volume is 78.5\n"
     ]
    }
   ],
   "source": [
    "#Q13\n",
    "r = int(input(\"enter radius\"))\n",
    "h = int(input(\"enter height\"))\n",
    "v = 1/3*(3.14*(r*r)*h)\n",
    "print(\"volume is\",v)"
   ]
  },
  {
   "cell_type": "code",
   "execution_count": 2,
   "id": "d07ab63d",
   "metadata": {},
   "outputs": [
    {
     "name": "stdout",
     "output_type": "stream",
     "text": [
      "enter radius2\n",
      "volume is 33.49333333333333\n"
     ]
    }
   ],
   "source": [
    "#Q14\n",
    "r = int(input(\"enter radius\"))\n",
    "v = 4/3*(3.14*(r*r*r))\n",
    "print(\"volume is\",v)"
   ]
  },
  {
   "cell_type": "code",
   "execution_count": 4,
   "id": "21ce4e8f",
   "metadata": {},
   "outputs": [
    {
     "name": "stdout",
     "output_type": "stream",
     "text": [
      "enter length in cm26\n",
      "enter breadth in cm12\n",
      "perimeter of rectangle is 76 cm\n"
     ]
    }
   ],
   "source": [
    "#Q15\n",
    "l = int(input(\"enter length in cm\"))\n",
    "b = int(input(\"enter breadth in cm\"))\n",
    "a = 2*(l+b)\n",
    "print(\"perimeter of rectangle is\",a,\"cm\")"
   ]
  },
  {
   "cell_type": "code",
   "execution_count": 6,
   "id": "3ae3459d",
   "metadata": {},
   "outputs": [
    {
     "name": "stdout",
     "output_type": "stream",
     "text": [
      "enter legth in cm2\n",
      "your area of space is 4 cm^2\n"
     ]
    }
   ],
   "source": [
    "#Q16\n",
    "a = int(input(\"enter legth in cm\"))\n",
    "x = a*a\n",
    "print(\"your area of space is\",x,\"cm^2\")"
   ]
  },
  {
   "cell_type": "code",
   "execution_count": 7,
   "id": "dcec29b5",
   "metadata": {},
   "outputs": [
    {
     "name": "stdout",
     "output_type": "stream",
     "text": [
      "enter height4\n",
      "enter base5\n",
      "your area  is 10.0 cm^2\n"
     ]
    }
   ],
   "source": [
    "#Q17\n",
    "h = int(input(\"enter height\"))\n",
    "b = int(input(\"enter base\"))\n",
    "a = 1/2*(b*h)\n",
    "print(\"your area  is\",a,\"cm^2\")"
   ]
  },
  {
   "cell_type": "code",
   "execution_count": 1,
   "id": "6ac71bfb",
   "metadata": {},
   "outputs": [
    {
     "name": "stdout",
     "output_type": "stream",
     "text": [
      "Enter First No5\n",
      "Enter Second No6\n",
      "Enter Third No7\n",
      "The greatest no is: 7\n"
     ]
    }
   ],
   "source": [
    "#Q18\n",
    "a = int(input(\"Enter First No\"))\n",
    "b = int(input(\"Enter Second No\"))\n",
    "c = int(input(\"Enter Third No\"))\n",
    "if a>b:\n",
    "    if a>c:\n",
    "        print(\"The greatest no is:\",a)\n",
    "    else:\n",
    "        print(\"The greatest no is:\",c)\n",
    "else:\n",
    "    if b>c:\n",
    "        print(\"The greatest no is:\",b)\n",
    "    else:\n",
    "        print(\"The greatest no is:\",c)\n"
   ]
  },
  {
   "cell_type": "code",
   "execution_count": 2,
   "id": "84b7cf76",
   "metadata": {},
   "outputs": [
    {
     "name": "stdout",
     "output_type": "stream",
     "text": [
      "Enter first side of triangle2\n",
      "Enter second side of triangle3\n",
      "Enter third side of tiangle3\n",
      "The perimeter is: 8\n"
     ]
    }
   ],
   "source": [
    "#Q19\n",
    "a = int(input(\"Enter first side of triangle\"))\n",
    "b = int(input(\"Enter second side of triangle\"))\n",
    "c = int(input(\"Enter third side of tiangle\"))\n",
    "perimeter = a+b+c\n",
    "print(\"The perimeter is:\",perimeter)"
   ]
  },
  {
   "cell_type": "code",
   "execution_count": 3,
   "id": "b6af958b",
   "metadata": {},
   "outputs": [
    {
     "name": "stdout",
     "output_type": "stream",
     "text": [
      "Enter first no55\n",
      "Enter second no66\n",
      "Enter third no33\n",
      "Enter fourth no55\n",
      "greatest number is: 66.0\n"
     ]
    }
   ],
   "source": [
    "#Q20\n",
    "a = float(input(\"Enter first no\"))\n",
    "b = float(input(\"Enter second no\"))\n",
    "c = float(input(\"Enter third no\"))\n",
    "d = float(input(\"Enter fourth no\"))\n",
    "if (a>b and a>c and a>d):\n",
    "    print(\"greatest number is:\",a)\n",
    "elif (b>c and b>d):\n",
    "    print(\"greatest number is:\",b)\n",
    "elif(c>d):\n",
    "    print(\"greatest number is:\",c)\n",
    "elif(d>c):\n",
    "    print(\"greatest number is:\",d)\n",
    "else:\n",
    "    print(\"Either any two values or all the four values are equal\")"
   ]
  },
  {
   "cell_type": "code",
   "execution_count": 4,
   "id": "4081429a",
   "metadata": {},
   "outputs": [
    {
     "name": "stdout",
     "output_type": "stream",
     "text": [
      "enter marks out of 300251\n",
      "percentage is 83.66666666666667\n",
      "Your division is first\n"
     ]
    }
   ],
   "source": [
    "#Q21\n",
    "a = eval(input(\"enter marks out of 300\"))\n",
    "b = a/300*100\n",
    "print(\"percentage is\",b)\n",
    "if(a>300):\n",
    "    print(\"You entered a wrong marks\")\n",
    "elif b>60:\n",
    "    print(\"Your division is first\")\n",
    "elif(b>50 and b<53):\n",
    "    print(\"Your division is second\")\n",
    "elif(b>33 and b<50):\n",
    "    print(\"Your division is third\")\n",
    "else:\n",
    "    print(\"fail\")"
   ]
  },
  {
   "cell_type": "code",
   "execution_count": 5,
   "id": "0835c137",
   "metadata": {},
   "outputs": [
    {
     "name": "stdout",
     "output_type": "stream",
     "text": [
      "enter your age17\n",
      "teenager\n"
     ]
    }
   ],
   "source": [
    "#Q22\n",
    "y = int(input(\"enter your age\"))\n",
    "if(y>0 and y<12):\n",
    "    print(\"Kid\")\n",
    "elif(y>=12 and y<19):\n",
    "    print(\"teenager\")\n",
    "elif(y>19 and y<30):\n",
    "    print(\"Young\")\n",
    "elif(y>30 and y<45):\n",
    "    print(\"mature\")\n",
    "elif(y>45 and y<60):\n",
    "    print(\"experienced\")\n",
    "elif(y>60 and y<75):\n",
    "    print(\"old\")\n",
    "elif(y>75):\n",
    "    print(\"senior citizen\")"
   ]
  },
  {
   "cell_type": "code",
   "execution_count": 6,
   "id": "0ad9407c",
   "metadata": {},
   "outputs": [
    {
     "name": "stdout",
     "output_type": "stream",
     "text": [
      "enter limit5\n",
      "the sum is 10\n"
     ]
    }
   ],
   "source": [
    "#Q23\n",
    "n = int(input(\"enter limit\"))\n",
    "s = 0\n",
    "for c in range(1,n):\n",
    "    s=c+s\n",
    "print(\"the sum is\",s)"
   ]
  },
  {
   "cell_type": "code",
   "execution_count": 7,
   "id": "63d69429",
   "metadata": {},
   "outputs": [
    {
     "name": "stdout",
     "output_type": "stream",
     "text": [
      "enter a number5\n",
      "the factorial of 5 is 120\n"
     ]
    }
   ],
   "source": [
    "#Q24\n",
    "a = int(input(\"enter a number\"))\n",
    "factorial = 1\n",
    "if a<0:\n",
    "    print(\"sorry, factorial does not exist for negative number\")\n",
    "elif a==0:\n",
    "    print(\"the factorial of 0 is 1\")\n",
    "else:\n",
    "    for i in range (1,a+1):\n",
    "        factorial=factorial*i\n",
    "    print(\"the factorial of\",a,\"is\",factorial)"
   ]
  },
  {
   "cell_type": "code",
   "execution_count": 8,
   "id": "9b9c11a5",
   "metadata": {},
   "outputs": [
    {
     "name": "stdout",
     "output_type": "stream",
     "text": [
      "show the multiplication table of?5\n",
      "5 X 1 = 5\n",
      "5 X 2 = 10\n",
      "5 X 3 = 15\n",
      "5 X 4 = 20\n",
      "5 X 5 = 25\n",
      "5 X 6 = 30\n",
      "5 X 7 = 35\n",
      "5 X 8 = 40\n",
      "5 X 9 = 45\n",
      "5 X 10 = 50\n"
     ]
    }
   ],
   "source": [
    "#Q25\n",
    "a = int(input(\"show the multiplication table of?\"))\n",
    "for i in range(1,11):\n",
    "    print(a,\"X\",i,\"=\",a*i)"
   ]
  },
  {
   "cell_type": "code",
   "execution_count": 9,
   "id": "4d924683",
   "metadata": {},
   "outputs": [
    {
     "name": "stdout",
     "output_type": "stream",
     "text": [
      "Enter the number rows5\n",
      "*****\n",
      "****\n",
      "***\n",
      "**\n",
      "*\n"
     ]
    }
   ],
   "source": [
    "#Q26\n",
    "num = int(input(\"Enter the number rows\"))\n",
    "for i in range(num,0,-1):\n",
    "    for j in range(0,i):\n",
    "        print(\"*\",end=\"\")\n",
    "    print()"
   ]
  },
  {
   "cell_type": "code",
   "execution_count": 10,
   "id": "a3022849",
   "metadata": {},
   "outputs": [
    {
     "name": "stdout",
     "output_type": "stream",
     "text": [
      "enter the no of rows5\n",
      "1\n",
      "22\n",
      "333\n",
      "4444\n",
      "55555\n"
     ]
    }
   ],
   "source": [
    "#Q27\n",
    "n = int(input(\"enter the no of rows\"))\n",
    "for i in range(1,n+1):\n",
    "    for j in range(1,i+1):\n",
    "        print(i,end=\"\")\n",
    "    print()"
   ]
  },
  {
   "cell_type": "code",
   "execution_count": 11,
   "id": "7ba72dc2",
   "metadata": {},
   "outputs": [
    {
     "name": "stdout",
     "output_type": "stream",
     "text": [
      "enter the number rows5\n",
      "     *\n",
      "    **\n",
      "   ***\n",
      "  ****\n",
      " *****\n"
     ]
    }
   ],
   "source": [
    "#Q28\n",
    "num = int(input(\"enter the number rows\"))\n",
    "for i in range (0,num):\n",
    "    for j in range (0,num-i):\n",
    "        print(\" \",end=\"\")\n",
    "    for k in range(0,i+1):\n",
    "        print(\"*\",end=\"\")\n",
    "    print(\"\")"
   ]
  },
  {
   "cell_type": "code",
   "execution_count": 12,
   "id": "82a9fcd3",
   "metadata": {},
   "outputs": [
    {
     "name": "stdout",
     "output_type": "stream",
     "text": [
      "enter the no of rows:5\n",
      "1\n",
      "12\n",
      "123\n",
      "1234\n",
      "12345\n"
     ]
    }
   ],
   "source": [
    "#Q29\n",
    "n = int(input(\"enter the no of rows:\"))\n",
    "for i in range(1,n+1):\n",
    "    for j in range(1,i+1):\n",
    "        print(j,end=\"\")\n",
    "    print()"
   ]
  },
  {
   "cell_type": "code",
   "execution_count": 14,
   "id": "1414b9ab",
   "metadata": {},
   "outputs": [
    {
     "name": "stdout",
     "output_type": "stream",
     "text": [
      "enter the range10\n",
      "0\n",
      "1\n",
      "1\n",
      "2\n",
      "3\n",
      "5\n",
      "8\n",
      "13\n",
      "21\n",
      "34\n"
     ]
    }
   ],
   "source": [
    "#Q30\n",
    "a = eval(input(\"enter the range\"))\n",
    "i=0\n",
    "first_value = 0\n",
    "second_value = 1\n",
    "while(i<a):\n",
    "    if(i<=1):\n",
    "        Next = i\n",
    "    else:\n",
    "        Next = first_value + second_value\n",
    "        first_value = second_value\n",
    "        second_value = Next\n",
    "    print(Next)\n",
    "    i=i+1"
   ]
  },
  {
   "cell_type": "code",
   "execution_count": 15,
   "id": "f4f75bd1",
   "metadata": {},
   "outputs": [
    {
     "name": "stdout",
     "output_type": "stream",
     "text": [
      "enter the range10\n",
      "0\n",
      "1\n",
      "1\n",
      "2\n",
      "3\n",
      "5\n",
      "8\n",
      "13\n",
      "21\n",
      "34\n"
     ]
    }
   ],
   "source": [
    "#Q31\n",
    "number = int(input(\"enter the range\"))\n",
    "first_value=0\n",
    "second_value=1\n",
    "for num in range(0,number):\n",
    "    if(num<=1):\n",
    "        NEXT=num\n",
    "    else:\n",
    "        NEXT=first_value+second_value\n",
    "        first_value=second_value\n",
    "        second_value=NEXT\n",
    "    print(NEXT)"
   ]
  },
  {
   "cell_type": "code",
   "execution_count": 16,
   "id": "8930c506",
   "metadata": {},
   "outputs": [
    {
     "name": "stdout",
     "output_type": "stream",
     "text": [
      "Enter a characterE\n",
      "A\n",
      "AB\n",
      "ABC\n",
      "ABCD\n",
      "ABCDE\n"
     ]
    }
   ],
   "source": [
    "#Q32\n",
    "ch=str(input(\"Enter a character\"))\n",
    "a=ord(ch)\n",
    "for x in range(65,a+1):\n",
    "    for c in range(65,x+1):\n",
    "        print(chr(c),end=\"\")\n",
    "    print(\"\")\n"
   ]
  },
  {
   "cell_type": "code",
   "execution_count": 17,
   "id": "f723533f",
   "metadata": {},
   "outputs": [
    {
     "name": "stdout",
     "output_type": "stream",
     "text": [
      "enter no5\n",
      "enter power2\n",
      "25\n"
     ]
    }
   ],
   "source": [
    "#Q33\n",
    "x=int(input(\"enter no\"))\n",
    "b=int(input(\"enter power\"))\n",
    "y=x\n",
    "for a in range(0,b-1):\n",
    "    y=x*y\n",
    "print(y)"
   ]
  },
  {
   "cell_type": "code",
   "execution_count": 18,
   "id": "b8dc9727",
   "metadata": {},
   "outputs": [
    {
     "name": "stdout",
     "output_type": "stream",
     "text": [
      "enter number2\n",
      "enter power2\n",
      "4\n"
     ]
    }
   ],
   "source": [
    "#Q34\n",
    "a=int(input(\"enter number\"))\n",
    "b=int(input(\"enter power\"))\n",
    "c=a**b\n",
    "print(c)"
   ]
  },
  {
   "cell_type": "code",
   "execution_count": 20,
   "id": "fb7a5c6e",
   "metadata": {},
   "outputs": [
    {
     "name": "stdout",
     "output_type": "stream",
     "text": [
      "enter number121\n",
      "the number is palindrome\n"
     ]
    }
   ],
   "source": [
    "#Q35\n",
    "n=int(input(\"enter number\"))\n",
    "x=n\n",
    "r=0\n",
    "while n>0:\n",
    "    d=n%10\n",
    "    r=r*10+d\n",
    "    n=n//10\n",
    "if x==r:\n",
    "    print(\"the number is palindrome\")\n",
    "else:\n",
    "    print(\"The number is not palindrome\")"
   ]
  },
  {
   "cell_type": "code",
   "execution_count": 21,
   "id": "809bd593",
   "metadata": {},
   "outputs": [
    {
     "name": "stdout",
     "output_type": "stream",
     "text": [
      "enter the element of list5\n",
      "do you want to enter more element:Y\n",
      "enter the element of list6\n",
      "do you want to enter more element:Y\n",
      "enter the element of list62\n",
      "do you want to enter more element:N\n",
      "the list is: [5, 6, 62]\n",
      "the factorial of each element is: [120, 720, 31469973260387937525653122354950764088012280797258232192163168247821107200000000000000]\n"
     ]
    }
   ],
   "source": [
    "#Q36\n",
    "a=[]\n",
    "fact=[]\n",
    "ch=\"y\"\n",
    "while ch==\"y\" or ch==\"Y\":\n",
    "    item= int(input(\"enter the element of list\"))\n",
    "    a.append(item)\n",
    "    ch=input(\"do you want to enter more element:\")\n",
    "print(\"the list is:\",a)\n",
    "for i in a:\n",
    "    f=1\n",
    "    for j in range(1,i+1):\n",
    "        f=f*j\n",
    "    fact.append(f)\n",
    "print(\"the factorial of each element is:\",fact)"
   ]
  },
  {
   "cell_type": "code",
   "execution_count": 22,
   "id": "b833ea1b",
   "metadata": {},
   "outputs": [
    {
     "name": "stdout",
     "output_type": "stream",
     "text": [
      "enter rows5\n",
      "    * \n",
      "   * * \n",
      "  * * * \n",
      " * * * * \n",
      "* * * * * \n"
     ]
    }
   ],
   "source": [
    "#Q37\n",
    "n = int(input(\"enter rows\"))\n",
    "for i in range(0,n):\n",
    "    for j in range(0,n-i-1):\n",
    "        print(end=\" \")\n",
    "    for j in range(0,i+1):\n",
    "        print(\"*\",end=\" \")\n",
    "    print()"
   ]
  },
  {
   "cell_type": "code",
   "execution_count": 23,
   "id": "cc87da5b",
   "metadata": {},
   "outputs": [
    {
     "name": "stdout",
     "output_type": "stream",
     "text": [
      "enter limit4\n",
      "enter element65\n",
      "enter element32\n",
      "enter element82\n",
      "enter element62\n",
      "[65, 32, 82, 62]\n"
     ]
    }
   ],
   "source": [
    "#Q38\n",
    "a=eval(input(\"enter limit\"))\n",
    "n=[]\n",
    "for a in range(1,a+1):\n",
    "    a=eval(input(\"enter element\"))\n",
    "    n.append(a)\n",
    "print(n)"
   ]
  },
  {
   "cell_type": "code",
   "execution_count": 24,
   "id": "5fd48fc2",
   "metadata": {},
   "outputs": [
    {
     "name": "stdout",
     "output_type": "stream",
     "text": [
      "enter limit4\n",
      "enter element25\n",
      "enter element63\n",
      "enter element52\n",
      "enter element41\n",
      "[25, 63, 52, 41]\n",
      "after sorting the list is\n",
      "[25, 41, 52, 63]\n"
     ]
    }
   ],
   "source": [
    "#Q39\n",
    "a=eval(input(\"enter limit\"))\n",
    "lst=[]\n",
    "for a in range(1,a+1):\n",
    "    a=eval(input(\"enter element\"))\n",
    "    lst.append(a)\n",
    "print(lst)\n",
    "l=len(lst)\n",
    "for i in range(l):\n",
    "    for j in range(0,l-i-1):\n",
    "        if lst[j]>lst[j+1]:\n",
    "            temp=lst[j]\n",
    "            lst[j]=lst[j+1]\n",
    "            lst[j+1]=temp\n",
    "print(\"after sorting the list is\")\n",
    "print(lst)"
   ]
  },
  {
   "cell_type": "code",
   "execution_count": 25,
   "id": "21af6ba8",
   "metadata": {},
   "outputs": [
    {
     "name": "stdout",
     "output_type": "stream",
     "text": [
      "enter limit4\n",
      "enter element5\n",
      "enter element2\n",
      "enter element3\n",
      "enter element4\n",
      "[5, 2, 3, 4]\n",
      "after sorting the list is\n",
      "[2, 2, 3, 4]\n"
     ]
    }
   ],
   "source": [
    "#Q40\n",
    "a=eval(input(\"enter limit\"))\n",
    "lst=[]\n",
    "for a in range(1,a+1):\n",
    "    a=eval(input(\"enter element\"))\n",
    "    lst.append(a)\n",
    "print(lst)\n",
    "l=len(lst)\n",
    "for i in range(l):\n",
    "    for j in range(0,l-i-1):\n",
    "        if lst[j]>lst[j+1]:\n",
    "            temp=lst[j]\n",
    "            lst[j]=lst[j+1]\n",
    "            lst[j+1]+temp\n",
    "print(\"after sorting the list is\")\n",
    "print(lst)"
   ]
  },
  {
   "cell_type": "code",
   "execution_count": 26,
   "id": "6f945cf5",
   "metadata": {},
   "outputs": [
    {
     "name": "stdout",
     "output_type": "stream",
     "text": [
      "enter limit2\n",
      "enter mobile number1234455676\n",
      "enter namedsfsa\n",
      "enter mobile number1233434544\n",
      "enter nameewrrrqe\n",
      "{1234455676: 'dsfsa', 1233434544: 'ewrrrqe'}\n",
      "enter the no to search in dictionary1234455676\n",
      "The name of person is dsfsa\n"
     ]
    }
   ],
   "source": [
    "#Q41\n",
    "n=int(input(\"enter limit\"))\n",
    "m={}\n",
    "mob=0\n",
    "name=\"\"\n",
    "i=0\n",
    "for i in range(0,n):\n",
    "    mob=int(input(\"enter mobile number\"))\n",
    "    name=str(input(\"enter name\"))\n",
    "    z2=dict({mob:name})\n",
    "    m.update(z2)\n",
    "print(m)\n",
    "n=int(input(\"enter the no to search in dictionary\"))\n",
    "print(\"The name of person is\",m[n])"
   ]
  },
  {
   "cell_type": "code",
   "execution_count": 27,
   "id": "51e5cede",
   "metadata": {},
   "outputs": [
    {
     "name": "stdout",
     "output_type": "stream",
     "text": [
      "enter number5\n",
      "5 is prime number\n"
     ]
    }
   ],
   "source": [
    "#Q42\n",
    "num=int(input(\"enter number\"))\n",
    "lim=int(num/2)+1\n",
    "for i in range(2,lim):\n",
    "    rem=num%i\n",
    "    if rem==0:\n",
    "        print(num,\"is not prime number\")\n",
    "else:\n",
    "    print(num,\"is prime number\")"
   ]
  },
  {
   "cell_type": "code",
   "execution_count": 28,
   "id": "50f75cc2",
   "metadata": {},
   "outputs": [
    {
     "name": "stdout",
     "output_type": "stream",
     "text": [
      "enter number6\n",
      "6 is even number\n"
     ]
    }
   ],
   "source": [
    "#Q43\n",
    "a=int(input(\"enter number\"))\n",
    "r=a%2\n",
    "if r==0:\n",
    "    print(a,\"is even number\")\n",
    "elif r>0:\n",
    "    print(a,\"is odd number\")\n",
    "else:\n",
    "    print(\"you enter a number is 0 or less than 0\")"
   ]
  },
  {
   "cell_type": "code",
   "execution_count": 29,
   "id": "6bbfeba6",
   "metadata": {},
   "outputs": [
    {
     "name": "stdout",
     "output_type": "stream",
     "text": [
      "enter limit5\n",
      "enter element52\n",
      "enter element63\n",
      "enter element952\n",
      "enter element25\n",
      "enter element125\n",
      "tuple is (52, 63, 952, 25, 125)\n"
     ]
    }
   ],
   "source": [
    "#Q44\n",
    "a=()\n",
    "l=[]\n",
    "n=int(input(\"enter limit\"))\n",
    "for i in range(0,n):\n",
    "    item=int(input(\"enter element\"))\n",
    "    l.append(item)\n",
    "a=a+tuple(l)\n",
    "print(\"tuple is\",a)"
   ]
  },
  {
   "cell_type": "code",
   "execution_count": 31,
   "id": "b4a2065b",
   "metadata": {},
   "outputs": [
    {
     "name": "stdout",
     "output_type": "stream",
     "text": [
      "enter the integer123456789\n",
      "The reversed integer is: 987654321\n"
     ]
    }
   ],
   "source": [
    "#Q45\n",
    "n=int(input(\"enter the integer\"))\n",
    "x=n\n",
    "r=0\n",
    "while n>0:\n",
    "    d=n%10\n",
    "    r=r*10+d\n",
    "    n=n//10\n",
    "print(\"The reversed integer is:\",r)"
   ]
  },
  {
   "cell_type": "code",
   "execution_count": null,
   "id": "c63494e6",
   "metadata": {},
   "outputs": [],
   "source": []
  }
 ],
 "metadata": {
  "kernelspec": {
   "display_name": "Python 3 (ipykernel)",
   "language": "python",
   "name": "python3"
  },
  "language_info": {
   "codemirror_mode": {
    "name": "ipython",
    "version": 3
   },
   "file_extension": ".py",
   "mimetype": "text/x-python",
   "name": "python",
   "nbconvert_exporter": "python",
   "pygments_lexer": "ipython3",
   "version": "3.11.4"
  }
 },
 "nbformat": 4,
 "nbformat_minor": 5
}
