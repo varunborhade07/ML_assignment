{
 "cells": [
  {
   "cell_type": "code",
   "execution_count": 2,
   "id": "dbe3c4a1",
   "metadata": {},
   "outputs": [
    {
     "name": "stdout",
     "output_type": "stream",
     "text": [
      "2002\n",
      "2009\n",
      "2016\n",
      "2023\n",
      "2037\n",
      "2044\n",
      "2051\n",
      "2058\n",
      "2072\n",
      "2079\n",
      "2086\n",
      "2093\n",
      "2107\n",
      "2114\n",
      "2121\n",
      "2128\n",
      "2142\n",
      "2149\n",
      "2156\n",
      "2163\n",
      "2177\n",
      "2184\n",
      "2191\n",
      "2198\n",
      "2212\n",
      "2219\n",
      "2226\n",
      "2233\n",
      "2247\n",
      "2254\n",
      "2261\n",
      "2268\n",
      "2282\n",
      "2289\n",
      "2296\n",
      "2303\n",
      "2317\n",
      "2324\n",
      "2331\n",
      "2338\n",
      "2352\n",
      "2359\n",
      "2366\n",
      "2373\n",
      "2387\n",
      "2394\n",
      "2401\n",
      "2408\n",
      "2422\n",
      "2429\n",
      "2436\n",
      "2443\n",
      "2457\n",
      "2464\n",
      "2471\n",
      "2478\n",
      "2492\n",
      "2499\n",
      "2506\n",
      "2513\n",
      "2527\n",
      "2534\n",
      "2541\n",
      "2548\n",
      "2562\n",
      "2569\n",
      "2576\n",
      "2583\n",
      "2597\n",
      "2604\n",
      "2611\n",
      "2618\n",
      "2632\n",
      "2639\n",
      "2646\n",
      "2653\n",
      "2667\n",
      "2674\n",
      "2681\n",
      "2688\n",
      "2702\n",
      "2709\n",
      "2716\n",
      "2723\n",
      "2737\n",
      "2744\n",
      "2751\n",
      "2758\n",
      "2772\n",
      "2779\n",
      "2786\n",
      "2793\n",
      "2807\n",
      "2814\n",
      "2821\n",
      "2828\n",
      "2842\n",
      "2849\n",
      "2856\n",
      "2863\n",
      "2877\n",
      "2884\n",
      "2891\n",
      "2898\n",
      "2912\n",
      "2919\n",
      "2926\n",
      "2933\n",
      "2947\n",
      "2954\n",
      "2961\n",
      "2968\n",
      "2982\n",
      "2989\n",
      "2996\n",
      "3003\n",
      "3017\n",
      "3024\n",
      "3031\n",
      "3038\n",
      "3052\n",
      "3059\n",
      "3066\n",
      "3073\n",
      "3087\n",
      "3094\n",
      "3101\n",
      "3108\n",
      "3122\n",
      "3129\n",
      "3136\n",
      "3143\n",
      "3157\n",
      "3164\n",
      "3171\n",
      "3178\n",
      "3192\n",
      "3199\n"
     ]
    }
   ],
   "source": [
    "#Q1\n",
    "for i in range(2000,3201):\n",
    "    if i%7==0:\n",
    "        if i%5!=0:\n",
    "            print(i)"
   ]
  },
  {
   "cell_type": "code",
   "execution_count": 10,
   "id": "fab187b0",
   "metadata": {},
   "outputs": [
    {
     "name": "stdout",
     "output_type": "stream",
     "text": [
      "enter a sentence :MY name is varun\n"
     ]
    }
   ],
   "source": [
    "#Q2\n",
    "a = str(input(\"enter a sentence :\"))\n",
    "count_lower = 0\n",
    "count_upper = 0\n",
    "for i in str(a):\n",
    "    if a.isupper==True:\n",
    "        count_upper+= 1\n",
    "    else:\n",
    "        count_lower+=1\n",
    "    "
   ]
  },
  {
   "cell_type": "code",
   "execution_count": null,
   "id": "7ef10eaa",
   "metadata": {},
   "outputs": [],
   "source": [
    "Q3:\n",
    "    PCA is a technique is use to reduce dimensonality of the model . it is basically use for \n",
    "    feature selection to build a good model"
   ]
  },
  {
   "cell_type": "code",
   "execution_count": null,
   "id": "cddf3908",
   "metadata": {},
   "outputs": [],
   "source": [
    "Q4:\n",
    "    yes we achieved 96% accuracy but in inbalance dataset it not good \n",
    "    eg if your model predict 100patient has no cancer but 4 have really cancer then model getting\n",
    "    96% acuracy but it is no use.so , we basically go for other method like precision,recall etc"
   ]
  },
  {
   "cell_type": "code",
   "execution_count": null,
   "id": "e225280b",
   "metadata": {},
   "outputs": [],
   "source": [
    "likewood ,marginal likewood,prior probability with naivebayes algorithm"
   ]
  },
  {
   "cell_type": "code",
   "execution_count": null,
   "id": "2d654e5e",
   "metadata": {},
   "outputs": [],
   "source": [
    "Q5 :\n",
    "    yes it happen because timeseries dataset are not much worried what happen in past\n",
    "    it cosider only recent observation so time series regressor give more accuracy"
   ]
  },
  {
   "cell_type": "code",
   "execution_count": null,
   "id": "99b6f9ba",
   "metadata": {},
   "outputs": [],
   "source": [
    "Q6:\n",
    "    it is purely a case of overfitting\n",
    "    so we use regularization technique so to tackle it"
   ]
  },
  {
   "cell_type": "code",
   "execution_count": null,
   "id": "1ab0db2a",
   "metadata": {},
   "outputs": [],
   "source": [
    "Q7:\n",
    "    pca use for feature selection so i not remove column before use PCA"
   ]
  },
  {
   "cell_type": "code",
   "execution_count": null,
   "id": "60fce53a",
   "metadata": {},
   "outputs": [],
   "source": [
    "Q8:\n",
    "    yes we build a better model because we not loose any information because if the dependent \n",
    "    column are correlated then it gives same information and we really cheak to use function\n",
    "    called corr() and if column is categorical we change it into numerical first"
   ]
  },
  {
   "cell_type": "code",
   "execution_count": null,
   "id": "c2d61d96",
   "metadata": {},
   "outputs": [],
   "source": [
    "Q9:\n",
    "    when we does'nt care about the feature selection then ridge is good '\n",
    "    we use lasso regularization here we cheak for slope value if value is 0 then we cannot choose\n",
    "    that column\n",
    "    use fuction corr to cheak the correlation with target variable"
   ]
  },
  {
   "cell_type": "code",
   "execution_count": null,
   "id": "1c4de022",
   "metadata": {},
   "outputs": [],
   "source": [
    "Q10:\n",
    "    we calculation information gain for that and according to that we choose root node and susced-\n",
    "    ing nod"
   ]
  },
  {
   "cell_type": "code",
   "execution_count": null,
   "id": "417d7543",
   "metadata": {},
   "outputs": [],
   "source": [
    "Q12:\n",
    "    def make_dict():\n",
    "        a = {i:j for i,j (1,21) }\n",
    "            "
   ]
  },
  {
   "cell_type": "code",
   "execution_count": 17,
   "id": "af930c20",
   "metadata": {},
   "outputs": [
    {
     "ename": "TypeError",
     "evalue": "list.count() takes exactly one argument (0 given)",
     "output_type": "error",
     "traceback": [
      "\u001b[1;31m---------------------------------------------------------------------------\u001b[0m",
      "\u001b[1;31mTypeError\u001b[0m                                 Traceback (most recent call last)",
      "Cell \u001b[1;32mIn[17], line 4\u001b[0m\n\u001b[0;32m      2\u001b[0m a \u001b[38;5;241m=\u001b[39m (\u001b[38;5;241m1\u001b[39m,\u001b[38;5;241m2\u001b[39m,\u001b[38;5;241m3\u001b[39m,\u001b[38;5;241m4\u001b[39m,\u001b[38;5;241m5\u001b[39m,\u001b[38;5;241m6\u001b[39m,\u001b[38;5;241m7\u001b[39m,\u001b[38;5;241m8\u001b[39m,\u001b[38;5;241m9\u001b[39m,\u001b[38;5;241m10\u001b[39m)\n\u001b[0;32m      3\u001b[0m b \u001b[38;5;241m=\u001b[39m \u001b[38;5;28mlist\u001b[39m(a)\n\u001b[1;32m----> 4\u001b[0m b\u001b[38;5;241m.\u001b[39mcount()\n",
      "\u001b[1;31mTypeError\u001b[0m: list.count() takes exactly one argument (0 given)"
     ]
    }
   ],
   "source": [
    "#Q13:\n",
    "a = (1,2,3,4,5,6,7,8,9,10)\n",
    "b = list(a)\n"
   ]
  },
  {
   "cell_type": "code",
   "execution_count": 28,
   "id": "9f35e481",
   "metadata": {},
   "outputs": [
    {
     "name": "stdout",
     "output_type": "stream",
     "text": [
      "124\n",
      "156\n",
      "162\n",
      "158\n",
      "158\n",
      "148\n",
      "162\n",
      "174\n",
      "178\n",
      "188\n",
      "122\n",
      "124\n",
      "198\n",
      "132\n",
      "106\n",
      "122\n",
      "156\n",
      "148\n",
      "120\n",
      "162\n",
      "120\n",
      "102\n",
      "130\n",
      "152\n",
      "194\n",
      "126\n",
      "178\n",
      "140\n",
      "100\n",
      "142\n",
      "128\n",
      "122\n",
      "156\n",
      "194\n",
      "174\n",
      "198\n",
      "134\n",
      "104\n",
      "164\n",
      "122\n",
      "148\n",
      "108\n",
      "118\n",
      "100\n",
      "188\n",
      "142\n",
      "148\n",
      "132\n"
     ]
    }
   ],
   "source": [
    "#Q14\n",
    "import random\n",
    "i = 0\n",
    "while i<100:\n",
    "    b = random.randint(100,201)\n",
    "    i += 1\n",
    "    if b%2==0:\n",
    "        print(b)\n"
   ]
  },
  {
   "cell_type": "code",
   "execution_count": null,
   "id": "5ceb2c0d",
   "metadata": {},
   "outputs": [],
   "source": [
    "#Q15\n",
    "class person:\n",
    "    "
   ]
  }
 ],
 "metadata": {
  "kernelspec": {
   "display_name": "Python 3 (ipykernel)",
   "language": "python",
   "name": "python3"
  },
  "language_info": {
   "codemirror_mode": {
    "name": "ipython",
    "version": 3
   },
   "file_extension": ".py",
   "mimetype": "text/x-python",
   "name": "python",
   "nbconvert_exporter": "python",
   "pygments_lexer": "ipython3",
   "version": "3.11.4"
  }
 },
 "nbformat": 4,
 "nbformat_minor": 5
}
