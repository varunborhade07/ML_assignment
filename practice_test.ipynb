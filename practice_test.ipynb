{
 "cells": [
  {
   "cell_type": "code",
   "execution_count": 8,
   "id": "962b172d",
   "metadata": {},
   "outputs": [
    {
     "name": "stdout",
     "output_type": "stream",
     "text": [
      "enter the number3\n",
      "Weired\n"
     ]
    }
   ],
   "source": [
    "#Q1\n",
    "n = int(input(\"enter the number\"))\n",
    "if n%2==0 & 2<=n>=5:\n",
    "    print('Not Weired')\n",
    "elif 6<=n>=20:\n",
    "        print('Weired')\n",
    "elif n>20:\n",
    "        print('Not Weired')\n",
    "else:\n",
    "    print(\"Weired\")"
   ]
  },
  {
   "cell_type": "code",
   "execution_count": 11,
   "id": "9ab6dbe6",
   "metadata": {},
   "outputs": [
    {
     "name": "stdout",
     "output_type": "stream",
     "text": [
      "0\n",
      "1\n",
      "4\n"
     ]
    }
   ],
   "source": [
    "#Q2\n",
    "l = [0,1,2]\n",
    "for i in l:\n",
    "    a=i*i\n",
    "    print(a)"
   ]
  },
  {
   "cell_type": "code",
   "execution_count": 16,
   "id": "28616fc5",
   "metadata": {},
   "outputs": [
    {
     "name": "stdout",
     "output_type": "stream",
     "text": [
      "enter x1\n",
      "enter y2\n",
      "enter z3\n",
      "enter n6\n",
      "[(0, 0, 0), (0, 0, 1), (0, 0, 2), (0, 0, 3), (0, 1, 0), (0, 1, 1), (0, 1, 2), (0, 1, 3), (0, 2, 0), (0, 2, 1), (0, 2, 2), (0, 2, 3), (1, 0, 0), (1, 0, 1), (1, 0, 2), (1, 0, 3), (1, 1, 0), (1, 1, 1), (1, 1, 2), (1, 1, 3), (1, 2, 0), (1, 2, 1), (1, 2, 2)]\n"
     ]
    }
   ],
   "source": [
    "#Q3\n",
    "x = int(input(\"enter x\"))\n",
    "y = int(input(\"enter y\"))\n",
    "z = int(input(\"enter z\"))\n",
    "n = int(input(\"enter n\"))\n",
    "coordinates = [(i, j, k) for i in range(x + 1) for j in range(y + 1) for k in range(z + 1) if i + j + k != n]\n",
    "\n",
    "print(coordinates)\n"
   ]
  },
  {
   "cell_type": "code",
   "execution_count": 41,
   "id": "2e892c28",
   "metadata": {},
   "outputs": [
    {
     "name": "stdout",
     "output_type": "stream",
     "text": [
      "5\n"
     ]
    }
   ],
   "source": [
    "#Q4\n",
    "l = [2,3,6,6,5]\n",
    "a = set(l)\n",
    "c =max(set(a)-{max(a)})\n",
    "print(c)"
   ]
  },
  {
   "cell_type": "code",
   "execution_count": 56,
   "id": "cf92e4ad",
   "metadata": {},
   "outputs": [
    {
     "name": "stdout",
     "output_type": "stream",
     "text": [
      "enter a name: alpha\n",
      "30.00\n"
     ]
    }
   ],
   "source": [
    "#Q5\n",
    "a = {'alpha' : [20,30,40],\n",
    "'beta' : [30,50,70]\n",
    "    }\n",
    "b = input('enter a name: ')\n",
    "if b in a:\n",
    "    c = sum(a[b])/len(a[b])\n",
    "    print('{:.2f}'.format(c))\n",
    "else:\n",
    "    print(\"student not found\")"
   ]
  },
  {
   "cell_type": "code",
   "execution_count": 63,
   "id": "cb54b24c",
   "metadata": {},
   "outputs": [
    {
     "name": "stdout",
     "output_type": "stream",
     "text": [
      "enter the stringvarun\n",
      "VARUN\n"
     ]
    }
   ],
   "source": [
    "#Q6\n",
    "a = input('enter the string')\n",
    "print(a.swapcase())"
   ]
  },
  {
   "cell_type": "code",
   "execution_count": 65,
   "id": "6123ac60",
   "metadata": {},
   "outputs": [
    {
     "name": "stdout",
     "output_type": "stream",
     "text": [
      "['This', 'is', 'a', 'string']\n",
      "This-is-a-string\n"
     ]
    }
   ],
   "source": [
    "#Q7\n",
    "a = \"This is a string\"\n",
    "b= a.split()\n",
    "print(b)\n",
    "c = \"-\".join(b)\n",
    "\n",
    "print(c)\n"
   ]
  },
  {
   "cell_type": "code",
   "execution_count": 68,
   "id": "b68dd6d2",
   "metadata": {},
   "outputs": [
    {
     "name": "stdout",
     "output_type": "stream",
     "text": [
      "enter the stringababab\n",
      "enter the substringab\n"
     ]
    },
    {
     "data": {
      "text/plain": [
       "3"
      ]
     },
     "execution_count": 68,
     "metadata": {},
     "output_type": "execute_result"
    }
   ],
   "source": [
    "#Q8\n",
    "a = input('enter the string')\n",
    "b = input(\"enter the substring\")\n",
    "c = a.count(b)\n",
    "c"
   ]
  },
  {
   "cell_type": "code",
   "execution_count": 81,
   "id": "19aad72e",
   "metadata": {},
   "outputs": [
    {
     "name": "stdout",
     "output_type": "stream",
     "text": [
      "yes string contain alphanumeric characters or alphabetical characters or digits or lowercase or uppercase characters.\n"
     ]
    }
   ],
   "source": [
    "#Q9\n",
    "string = 'hello123'\n",
    "a = string.isalnum()\n",
    "b = string.isalpha()\n",
    "c = string.isdigit()\n",
    "d = string.isupper()\n",
    "e = string.islower()\n",
    "if a==True or b==True or c==True or d==True or e==True:\n",
    "    print(\"yes string contain alphanumeric characters or alphabetical characters or digits or lowercase or uppercase characters.\")\n",
    "else:\n",
    "    print(\"string not contain anything\")"
   ]
  },
  {
   "cell_type": "code",
   "execution_count": 83,
   "id": "bb5c5867",
   "metadata": {},
   "outputs": [
    {
     "name": "stdout",
     "output_type": "stream",
     "text": [
      "Enter a string: +12\n",
      "The string contains characters outside the allowed set.\n"
     ]
    }
   ],
   "source": [
    "#Q10\n",
    "import re\n",
    "a = input(\"Enter a string: \")\n",
    "\n",
    "def is_valid_string(input_string):\n",
    "    pattern = re.compile(r'^[a-zA-Z0-9]+$')\n",
    "    \n",
    "\n",
    "    return bool(pattern.match(input_string))\n",
    "\n",
    "\n",
    "if is_valid_string(a):\n",
    "    print(\"The string contains only allowed characters.\")\n",
    "else:\n",
    "    print(\"The string contains characters outside the allowed set.\")\n"
   ]
  },
  {
   "cell_type": "code",
   "execution_count": 96,
   "id": "c6a7993d",
   "metadata": {},
   "outputs": [
    {
     "name": "stdout",
     "output_type": "stream",
     "text": [
      "Enter a string: b\n",
      "The string does not match the pattern.\n"
     ]
    }
   ],
   "source": [
    "#Q11\n",
    "import re\n",
    "\n",
    "def match_pattern(a):\n",
    "    pattern = re.compile(r'ab*')\n",
    "\n",
    "    return bool(pattern.match(a))\n",
    "\n",
    "b = input(\"Enter a string: \")\n",
    "\n",
    "if match_pattern(b):\n",
    "    print(\"The string matches the pattern 'a' followed by zero or more 'b's.\")\n",
    "else:\n",
    "    print(\"The string does not match the pattern.\")\n"
   ]
  },
  {
   "cell_type": "code",
   "execution_count": 98,
   "id": "b0a41781",
   "metadata": {},
   "outputs": [
    {
     "name": "stdout",
     "output_type": "stream",
     "text": [
      "Enter a string: ab\n",
      "The string matches the pattern 'a' followed by zero or more 'b's.\n"
     ]
    }
   ],
   "source": [
    "#Q12\n",
    "import re\n",
    "\n",
    "def match_pattern(a):\n",
    "    pattern = re.compile(r'ab+')\n",
    "\n",
    "    return bool(pattern.match(a))\n",
    "\n",
    "b = input(\"Enter a string: \")\n",
    "\n",
    "if match_pattern(b):\n",
    "    print(\"The string matches the pattern 'a' followed by one or more 'b's.\")\n",
    "else:\n",
    "    print(\"The string does not match the pattern.\")\n"
   ]
  },
  {
   "cell_type": "code",
   "execution_count": 2,
   "id": "ca1a7307",
   "metadata": {},
   "outputs": [
    {
     "name": "stdout",
     "output_type": "stream",
     "text": [
      "Enter a string: abbb\n",
      "The string matches the pattern 'a' followed by three 'b's.\n"
     ]
    }
   ],
   "source": [
    "#Q13\n",
    "import re\n",
    "\n",
    "def match_pattern(a):\n",
    "    pattern = re.compile(r'ab{3}')\n",
    "\n",
    "    return bool(pattern.match(a))\n",
    "\n",
    "b = input(\"Enter a string: \")\n",
    "\n",
    "if match_pattern(b):\n",
    "    print(\"The string matches the pattern 'a' followed by three 'b's.\")\n",
    "else:\n",
    "    print(\"The string does not match the pattern.\")\n"
   ]
  },
  {
   "cell_type": "code",
   "execution_count": 3,
   "id": "1e810de4",
   "metadata": {},
   "outputs": [
    {
     "name": "stdout",
     "output_type": "stream",
     "text": [
      "Enter a string: abbb\n",
      "The string matches the pattern 'a' followed by two to three 'b's.\n"
     ]
    }
   ],
   "source": [
    "#Q14\n",
    " \n",
    "import re\n",
    "\n",
    "def match_pattern(a):\n",
    "    pattern = re.compile(r'ab{2,3}')\n",
    "\n",
    "    return bool(pattern.match(a))\n",
    "\n",
    "b = input(\"Enter a string: \")\n",
    "\n",
    "if match_pattern(b):\n",
    "    print(\"The string matches the pattern 'a' followed by two to three 'b's.\")\n",
    "else:\n",
    "    print(\"The string does not match the pattern.\")\n"
   ]
  },
  {
   "cell_type": "code",
   "execution_count": 4,
   "id": "8e2e961f",
   "metadata": {},
   "outputs": [
    {
     "name": "stdout",
     "output_type": "stream",
     "text": [
      "Enter a string: ab_ab\n",
      "Found sequences: ['ab_ab']\n"
     ]
    }
   ],
   "source": [
    "#Q15\n",
    "import re\n",
    "\n",
    "def find_sequences(b):\n",
    "    pattern = re.compile(r'\\b[a-z]+_[a-z]+\\b')\n",
    "\n",
    "    return pattern.findall(b)\n",
    "\n",
    "a = input(\"Enter a string: \")\n",
    "\n",
    "sequences = find_sequences(a)\n",
    "\n",
    "if sequences:\n",
    "    print(\"Found sequences:\", sequences)\n",
    "else:\n",
    "    print(\"No sequences found.\")\n"
   ]
  },
  {
   "cell_type": "code",
   "execution_count": 5,
   "id": "41fc9455",
   "metadata": {},
   "outputs": [
    {
     "name": "stdout",
     "output_type": "stream",
     "text": [
      "Enter a string: abbc\n",
      "No sequences found.\n"
     ]
    }
   ],
   "source": [
    "#Q16\n",
    "import re\n",
    "\n",
    "def find_sequences(b):\n",
    "    pattern = re.compile(r'\\b[A-Z][a-z]+\\b')\n",
    "\n",
    "    return pattern.findall(b)\n",
    "\n",
    "a = input(\"Enter a string: \")\n",
    "\n",
    "sequences = find_sequences(a)\n",
    "\n",
    "if sequences:\n",
    "    print(\"Found sequences:\", sequences)\n",
    "else:\n",
    "    print(\"No sequences found.\")\n"
   ]
  },
  {
   "cell_type": "code",
   "execution_count": 6,
   "id": "14f9b1a4",
   "metadata": {},
   "outputs": [
    {
     "name": "stdout",
     "output_type": "stream",
     "text": [
      "Enter a string: a2b\n",
      "The string matches the pattern 'a' followed by anything, ending in 'b'.\n"
     ]
    }
   ],
   "source": [
    "#17\n",
    "import re\n",
    "\n",
    "def match_pattern(b):\n",
    "    pattern = re.compile(r'a.*b$')\n",
    "    return bool(pattern.search(b))\n",
    "\n",
    "a = input(\"Enter a string: \")\n",
    "\n",
    "if match_pattern(a):\n",
    "    print(\"The string matches the pattern 'a' followed by anything, ending in 'b'.\")\n",
    "else:\n",
    "    print(\"The string does not match the pattern.\")\n"
   ]
  },
  {
   "cell_type": "code",
   "execution_count": 7,
   "id": "37d00388",
   "metadata": {},
   "outputs": [
    {
     "name": "stdout",
     "output_type": "stream",
     "text": [
      "Enter a string: abc\n",
      "The word at the beginning of the string is: abc\n"
     ]
    }
   ],
   "source": [
    "#Q18\n",
    "import re\n",
    "\n",
    "def match_pattern(a):\n",
    "    pattern = re.compile(r'^\\w+')\n",
    "\n",
    "    match = pattern.search(a)\n",
    "\n",
    "    if match:\n",
    "        matched_word = match.group()\n",
    "        return matched_word\n",
    "    else:\n",
    "        return None\n",
    "\n",
    "b = input(\"Enter a string: \")\n",
    "\n",
    "result = match_pattern(b)\n",
    "\n",
    "if result:\n",
    "    print(f\"The word at the beginning of the string is: {result}\")\n",
    "else:\n",
    "    print(\"No word found at the beginning of the string.\")\n"
   ]
  },
  {
   "cell_type": "code",
   "execution_count": 8,
   "id": "291ea33a",
   "metadata": {},
   "outputs": [
    {
     "name": "stdout",
     "output_type": "stream",
     "text": [
      "Enter a string: abcd\n",
      "The word at the end of the string with optional punctuation is: abcd\n"
     ]
    }
   ],
   "source": [
    "#Q19\n",
    "import re\n",
    "\n",
    "def match_pattern(a):\n",
    "    pattern = re.compile(r'\\b\\w+\\b[.,;!?]*$')\n",
    "\n",
    "    match = pattern.search(a)\n",
    "\n",
    "    if match:\n",
    "        matched_word = match.group()\n",
    "        return matched_word\n",
    "    else:\n",
    "        return None\n",
    "\n",
    "b = input(\"Enter a string: \")\n",
    "\n",
    "result = match_pattern(b)\n",
    "\n",
    "if result:\n",
    "    print(f\"The word at the end of the string with optional punctuation is: {result}\")\n",
    "else:\n",
    "    print(\"No matching word found at the end of the string.\")"
   ]
  },
  {
   "cell_type": "code",
   "execution_count": 1,
   "id": "eaa5697e",
   "metadata": {},
   "outputs": [
    {
     "name": "stdout",
     "output_type": "stream",
     "text": [
      "Enter a string: abc\n",
      "Words containing 'z', not at the start or end: []\n"
     ]
    }
   ],
   "source": [
    "#Q20\n",
    "import re\n",
    "\n",
    "def match_word_with_z(input_string):\n",
    "    pattern = re.compile(r'\\b\\w*z\\w*\\b')\n",
    "    matches = pattern.findall(input_string)\n",
    "    return matches\n",
    "\n",
    "user_input = input(\"Enter a string: \")\n",
    "result = match_word_with_z(user_input)\n",
    "print(\"Words containing 'z', not at the start or end:\", result)\n"
   ]
  },
  {
   "cell_type": "code",
   "execution_count": 2,
   "id": "1c124be3",
   "metadata": {},
   "outputs": [
    {
     "name": "stdout",
     "output_type": "stream",
     "text": [
      "Enter a string: addhgfgkgfj12\n",
      "Enter the specific number: @12\n",
      "The string starts with @12: False\n"
     ]
    }
   ],
   "source": [
    "#Q21\n",
    "import re\n",
    "\n",
    "def starts_with_number(input_string, number):\n",
    "    pattern = re.compile(fr'^{number}\\w*')\n",
    "    match = pattern.search(input_string)\n",
    "    return bool(match)\n",
    "\n",
    "user_input = input(\"Enter a string: \")\n",
    "specific_number = input(\"Enter the specific number: \")\n",
    "result = starts_with_number(user_input, specific_number)\n",
    "print(f\"The string starts with {specific_number}: {result}\")\n"
   ]
  },
  {
   "cell_type": "code",
   "execution_count": 3,
   "id": "b9c538d7",
   "metadata": {},
   "outputs": [
    {
     "name": "stdout",
     "output_type": "stream",
     "text": [
      "Enter a string: acfgbj\n",
      "The string ends with a number: False\n"
     ]
    }
   ],
   "source": [
    "#Q22\n",
    "import re\n",
    "\n",
    "def ends_with_number(input_string):\n",
    "    pattern = re.compile(r'\\d+$')\n",
    "    match = pattern.search(input_string)\n",
    "    return bool(match)\n",
    "\n",
    "# Example usage\n",
    "user_input = input(\"Enter a string: \")\n",
    "result = ends_with_number(user_input)\n",
    "print(f\"The string ends with a number: {result}\")\n"
   ]
  },
  {
   "cell_type": "code",
   "execution_count": 6,
   "id": "067aeec7",
   "metadata": {},
   "outputs": [
    {
     "name": "stdout",
     "output_type": "stream",
     "text": [
      "Enter a string: varun123\n",
      "Numbers of length between 1 to 3: []\n"
     ]
    }
   ],
   "source": [
    "#Q23\n",
    "import re\n",
    "\n",
    "def search_numbers(input_string):\n",
    "    pattern = re.compile(r'\\b\\d{1,3}\\b')\n",
    "    matches = pattern.findall(input_string)\n",
    "    return matches\n",
    "\n",
    "# Example usage\n",
    "user_input = input(\"Enter a string: \")\n",
    "result = search_numbers(user_input)\n",
    "print(\"Numbers of length between 1 to 3:\", result)\n"
   ]
  },
  {
   "cell_type": "code",
   "execution_count": 7,
   "id": "ced7340e",
   "metadata": {},
   "outputs": [
    {
     "name": "stdout",
     "output_type": "stream",
     "text": [
      "Enter a string: abc-sca\n",
      "Enter searched words (comma-separated): sca\n",
      "Searched words found in the string: ['sca']\n"
     ]
    }
   ],
   "source": [
    "#Q24\n",
    "import re\n",
    "\n",
    "def search_literals(input_string, searched_words):\n",
    "    pattern = re.compile(fr'\\b(?:{\"|\".join(searched_words)})\\b')\n",
    "    matches = pattern.findall(input_string)\n",
    "    return matches\n",
    "\n",
    "# Example usage\n",
    "user_input = input(\"Enter a string: \")\n",
    "searched_words = input(\"Enter searched words (comma-separated): \").split(', ')\n",
    "result = search_literals(user_input, searched_words)\n",
    "print(f\"Searched words found in the string: {result}\")\n"
   ]
  },
  {
   "cell_type": "code",
   "execution_count": 8,
   "id": "faa429ba",
   "metadata": {},
   "outputs": [
    {
     "name": "stdout",
     "output_type": "stream",
     "text": [
      "Enter a string: my name is something\n",
      "Enter the searched word: is\n",
      "The word 'is' is found at position 8 to 10.\n"
     ]
    }
   ],
   "source": [
    "\n",
    "#Q25\n",
    "import re\n",
    "\n",
    "def search_and_find_location(input_string, searched_word):\n",
    "    pattern = re.compile(fr'\\b{searched_word}\\b')\n",
    "    match = pattern.search(input_string)\n",
    "    if match:\n",
    "        location = match.span()\n",
    "        return f\"The word '{searched_word}' is found at position {location[0]} to {location[1]}.\"\n",
    "    else:\n",
    "        return f\"The word '{searched_word}' is not found in the string.\"\n",
    "\n",
    "# Example usage\n",
    "user_input = input(\"Enter a string: \")\n",
    "searched_word = input(\"Enter the searched word: \")\n",
    "result = search_and_find_location(user_input, searched_word)\n",
    "print(result)\n"
   ]
  },
  {
   "cell_type": "code",
   "execution_count": 9,
   "id": "3f732431",
   "metadata": {},
   "outputs": [
    {
     "name": "stdout",
     "output_type": "stream",
     "text": [
      "Enter a string: my name is y\n",
      "Enter the substring pattern: y\n",
      "Substrings found in the string: ['y', 'y']\n"
     ]
    }
   ],
   "source": [
    "#Q26\n",
    "import re\n",
    "\n",
    "def find_substrings(input_string, pattern):\n",
    "    matches = re.findall(pattern, input_string)\n",
    "    return matches\n",
    "\n",
    "# Example usage\n",
    "user_input = input(\"Enter a string: \")\n",
    "substring_pattern = input(\"Enter the substring pattern: \")\n",
    "result = find_substrings(user_input, substring_pattern)\n",
    "print(f\"Substrings found in the string: {result}\")\n"
   ]
  },
  {
   "cell_type": "code",
   "execution_count": 10,
   "id": "2846437e",
   "metadata": {},
   "outputs": [
    {
     "name": "stdout",
     "output_type": "stream",
     "text": [
      "Enter a string: my iss sfdhf\n",
      "Enter the substring to find: sfsa\n",
      "Occurrences and positions of 'sfsa': []\n"
     ]
    }
   ],
   "source": [
    "#Q27\n",
    "import re\n",
    "\n",
    "def find_occurrence_and_position(input_string, substring):\n",
    "    pattern = re.compile(fr'{substring}')\n",
    "    matches = [(match.group(), match.start()) for match in pattern.finditer(input_string)]\n",
    "    return matches\n",
    "\n",
    "# Example usage\n",
    "user_input = input(\"Enter a string: \")\n",
    "substring_to_find = input(\"Enter the substring to find: \")\n",
    "result = find_occurrence_and_position(user_input, substring_to_find)\n",
    "print(f\"Occurrences and positions of '{substring_to_find}': {result}\")\n"
   ]
  },
  {
   "cell_type": "code",
   "execution_count": 13,
   "id": "748b381e",
   "metadata": {},
   "outputs": [
    {
     "name": "stdout",
     "output_type": "stream",
     "text": [
      "Enter a string: abc bac\n",
      "String with spaces replaced by underscore: abc_bac\n",
      "String with underscore replaced by spaces: abc bac\n"
     ]
    }
   ],
   "source": [
    "#Q28\n",
    "def replace_spaces_and_underscore(input_string):\n",
    "    replaced_spaces = input_string.replace(' ', '_')\n",
    "    replaced_underscore = input_string.replace('_', ' ')\n",
    "    return replaced_spaces, replaced_underscore\n",
    "\n",
    "# Example usage\n",
    "user_input = input(\"Enter a string: \")\n",
    "result_spaces, result_underscore = replace_spaces_and_underscore(user_input)\n",
    "print(f\"String with spaces replaced by underscore: {result_spaces}\")\n",
    "print(f\"String with underscore replaced by spaces: {result_underscore}\")\n"
   ]
  },
  {
   "cell_type": "code",
   "execution_count": 1,
   "id": "bca96775",
   "metadata": {},
   "outputs": [
    {
     "name": "stdout",
     "output_type": "stream",
     "text": [
      "Enter a URL: www.abc.com\n",
      "Extracted date parts from the URL: []\n"
     ]
    }
   ],
   "source": [
    "#Q29\n",
    "from urllib.parse import urlparse\n",
    "\n",
    "def extract_date_from_url(url):\n",
    "    parsed_url = urlparse(url)\n",
    "    path_parts = parsed_url.path.split('/')\n",
    "    date_parts = [part for part in path_parts if part.isdigit()]\n",
    "    return date_parts\n",
    "\n",
    "# Example usage\n",
    "url_input = input(\"Enter a URL: \")\n",
    "result = extract_date_from_url(url_input)\n",
    "print(f\"Extracted date parts from the URL: {result}\")\n"
   ]
  },
  {
   "cell_type": "code",
   "execution_count": 17,
   "id": "9670321d",
   "metadata": {},
   "outputs": [
    {
     "name": "stdout",
     "output_type": "stream",
     "text": [
      "Enter a date in yyyy-mm-dd format: 2000-12-31\n",
      "Converted date to dd-mm-yyyy format: 31-12-2000\n"
     ]
    }
   ],
   "source": [
    "#Q30\n",
    "def convert_date_format(input_date):\n",
    "    parts = input_date.split('-')\n",
    "    formatted_date = f\"{parts[2]}-{parts[1]}-{parts[0]}\"\n",
    "    return formatted_date\n",
    "\n",
    "# Example usage\n",
    "user_input = input(\"Enter a date in yyyy-mm-dd format: \")\n",
    "result = convert_date_format(user_input)\n",
    "print(f\"Converted date to dd-mm-yyyy format: {result}\")\n"
   ]
  },
  {
   "cell_type": "code",
   "execution_count": null,
   "id": "4bc9cf28",
   "metadata": {},
   "outputs": [],
   "source": []
  }
 ],
 "metadata": {
  "kernelspec": {
   "display_name": "Python 3 (ipykernel)",
   "language": "python",
   "name": "python3"
  },
  "language_info": {
   "codemirror_mode": {
    "name": "ipython",
    "version": 3
   },
   "file_extension": ".py",
   "mimetype": "text/x-python",
   "name": "python",
   "nbconvert_exporter": "python",
   "pygments_lexer": "ipython3",
   "version": "3.11.4"
  }
 },
 "nbformat": 4,
 "nbformat_minor": 5
}
